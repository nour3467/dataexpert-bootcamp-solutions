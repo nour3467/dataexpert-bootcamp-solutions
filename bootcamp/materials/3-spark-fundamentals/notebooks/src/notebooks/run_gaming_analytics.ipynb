{
 "cells": [
  {
   "cell_type": "code",
   "execution_count": 7,
   "id": "068d1403-c2de-4db8-88bc-555b882877c1",
   "metadata": {
    "ExecuteTime": {
     "end_time": "2025-07-05T11:49:48.000710Z",
     "start_time": "2025-07-05T11:49:47.703438Z"
    }
   },
   "outputs": [
    {
     "name": "stdout",
     "output_type": "stream",
     "text": [
      "Loading datasets...\n",
      "Creating bucketed tables...\n",
      "Joining data...\n",
      "Analyzing gaming data...\n",
      "Top Killer:\n"
     ]
    },
    {
     "name": "stderr",
     "output_type": "stream",
     "text": [
      "                                                                                "
     ]
    },
    {
     "name": "stdout",
     "output_type": "stream",
     "text": [
      "+---------------+---------+\n",
      "|player_gamertag|avg_kills|\n",
      "+---------------+---------+\n",
      "|   gimpinator14|    109.0|\n",
      "+---------------+---------+\n",
      "\n",
      "Most Played Playlist:\n",
      "+--------------------+-----------+\n",
      "|         playlist_id|match_count|\n",
      "+--------------------+-----------+\n",
      "|f72e0ef0-7c4a-430...|     205957|\n",
      "+--------------------+-----------+\n",
      "\n",
      "Most Played Map:\n",
      "+--------------+-----------+\n",
      "|          name|match_count|\n",
      "+--------------+-----------+\n",
      "|Breakout Arena|     189378|\n",
      "+--------------+-----------+\n",
      "\n",
      "Map with Most Killing Spree Medals:\n",
      "+--------------+--------------------------+\n",
      "|          name|total_killing_spree_medals|\n",
      "+--------------+--------------------------+\n",
      "|Breakout Arena|                      6738|\n",
      "+--------------+--------------------------+\n",
      "\n",
      "Testing sortWithinPartitions with 3 different strategies...\n",
      "Data size comparison:\n",
      "Original data partitions: 11\n"
     ]
    },
    {
     "name": "stderr",
     "output_type": "stream",
     "text": [
      "                                                                                "
     ]
    },
    {
     "name": "stdout",
     "output_type": "stream",
     "text": [
      "Sorted by playlist partitions: 16\n"
     ]
    },
    {
     "name": "stderr",
     "output_type": "stream",
     "text": [
      "[Stage 128:>                                                      (0 + 11) / 11]"
     ]
    },
    {
     "name": "stdout",
     "output_type": "stream",
     "text": [
      "Sorted by map partitions: 16\n"
     ]
    },
    {
     "name": "stderr",
     "output_type": "stream",
     "text": [
      "[Stage 141:>                                                      (0 + 11) / 11]"
     ]
    },
    {
     "name": "stdout",
     "output_type": "stream",
     "text": [
      "Sorted by medal partitions: 16\n",
      "\n",
      "Data distribution analysis:\n"
     ]
    },
    {
     "name": "stderr",
     "output_type": "stream",
     "text": [
      "                                                                                "
     ]
    },
    {
     "name": "stdout",
     "output_type": "stream",
     "text": [
      "Playlist strategy sample count: 100\n",
      "Map strategy sample count: 100\n",
      "Medal strategy sample count: 100\n",
      "\n",
      "Explain plan for main joined data (bucket joins):\n",
      "== Physical Plan ==\n",
      "AdaptiveSparkPlan isFinalPlan=false\n",
      "+- SortMergeJoin [match_id#5542, player_gamertag#5543], [match_id#5634, player_gamertag#5635], LeftOuter\n",
      "   :- Sort [match_id#5542 ASC NULLS FIRST, player_gamertag#5543 ASC NULLS FIRST], false, 0\n",
      "   :  +- Exchange hashpartitioning(match_id#5542, player_gamertag#5543, 200), ENSURE_REQUIREMENTS, [plan_id=19597]\n",
      "   :     +- SortMergeJoin [match_id#5542], [match_id#5614], Inner\n",
      "   :        :- Sort [match_id#5542 ASC NULLS FIRST], false, 0\n",
      "   :        :  +- Exchange hashpartitioning(match_id#5542, 200), ENSURE_REQUIREMENTS, [plan_id=19589]\n",
      "   :        :     +- BatchScan local.bootcamp.match_details_bucketed[match_id#5542, player_gamertag#5543, previous_spartan_rank#5544, spartan_rank#5545, previous_total_xp#5546, total_xp#5547, previous_csr_tier#5548, previous_csr_designation#5549, previous_csr#5550, previous_csr_percent_to_next_tier#5551, previous_csr_rank#5552, current_csr_tier#5553, current_csr_designation#5554, current_csr#5555, current_csr_percent_to_next_tier#5556, current_csr_rank#5557, player_rank_on_team#5558, player_finished#5559, player_average_life#5560, player_total_kills#5561, player_total_headshots#5562, player_total_weapon_damage#5563, player_total_shots_landed#5564, player_total_melee_kills#5565, ... 12 more fields] local.bootcamp.match_details_bucketed (branch=null) [filters=match_id IS NOT NULL, groupedBy=] RuntimeFilters: []\n",
      "   :        +- Sort [match_id#5614 ASC NULLS FIRST], false, 0\n",
      "   :           +- Exchange hashpartitioning(match_id#5614, 200), ENSURE_REQUIREMENTS, [plan_id=19590]\n",
      "   :              +- BatchScan local.bootcamp.matches_bucketed[match_id#5614, mapid#5615, is_team_game#5616, playlist_id#5617, game_variant_id#5618, is_match_over#5619, completion_date#5620, match_duration#5621, game_mode#5622, map_variant_id#5623] local.bootcamp.matches_bucketed (branch=null) [filters=match_id IS NOT NULL, groupedBy=] RuntimeFilters: []\n",
      "   +- Sort [match_id#5634 ASC NULLS FIRST, player_gamertag#5635 ASC NULLS FIRST], false, 0\n",
      "      +- Exchange hashpartitioning(match_id#5634, player_gamertag#5635, 200), ENSURE_REQUIREMENTS, [plan_id=19596]\n",
      "         +- Filter isnotnull(player_gamertag#5635)\n",
      "            +- BatchScan local.bootcamp.medals_matches_players_bucketed[match_id#5634, player_gamertag#5635, medal_id#5636L, count#5637] local.bootcamp.medals_matches_players_bucketed (branch=null) [filters=match_id IS NOT NULL, player_gamertag IS NOT NULL, groupedBy=] RuntimeFilters: []\n",
      "\n",
      "\n",
      "\n",
      "Available medal types (for verification):\n",
      "+----------------------+\n",
      "|name                  |\n",
      "+----------------------+\n",
      "|NULL                  |\n",
      "|Airborne Snapshot!    |\n",
      "|Airsassination        |\n",
      "|Alley-Oop             |\n",
      "|Assassination         |\n",
      "|Assist                |\n",
      "|BXR                   |\n",
      "|Ball Carrier Kill     |\n",
      "|Ball Carrier Protected|\n",
      "|Ball Champion         |\n",
      "|Ball Kill             |\n",
      "|Ball Runner           |\n",
      "|Banshee Assist        |\n",
      "|Banshee Destroyed     |\n",
      "|Base Capture          |\n",
      "|Base Defense          |\n",
      "|Beam Kill             |\n",
      "|Beat Down             |\n",
      "|Bifecta               |\n",
      "|Big Game Hunter       |\n",
      "+----------------------+\n",
      "only showing top 20 rows\n",
      "\n",
      "Job completed!\n"
     ]
    }
   ],
   "source": [
    "exec(open('/home/iceberg/notebooks/notebooks/src/jobs_1/gaming_analytics_job.py').read())"
   ]
  },
  {
   "cell_type": "code",
   "execution_count": null,
   "id": "023f2631-0768-4e0a-9f7e-9a052b208f48",
   "metadata": {},
   "outputs": [],
   "source": []
  }
 ],
 "metadata": {
  "kernelspec": {
   "display_name": "Python 3 (ipykernel)",
   "language": "python",
   "name": "python3"
  },
  "language_info": {
   "codemirror_mode": {
    "name": "ipython",
    "version": 3
   },
   "file_extension": ".py",
   "mimetype": "text/x-python",
   "name": "python",
   "nbconvert_exporter": "python",
   "pygments_lexer": "ipython3",
   "version": "3.10.16"
  }
 },
 "nbformat": 4,
 "nbformat_minor": 5
}
