{
 "cells": [
  {
   "cell_type": "code",
   "execution_count": 1,
   "id": "a4aa80fc-99bd-4e7a-9081-52be22315d09",
   "metadata": {},
   "outputs": [],
   "source": [
    "import sys\n",
    "sys.path.append('/home/iceberg/notebooks/notebooks/src')"
   ]
  },
  {
   "cell_type": "code",
   "execution_count": 2,
   "id": "a9489cf4-2ea1-4e70-9a07-3e031783c0d7",
   "metadata": {},
   "outputs": [
    {
     "name": "stderr",
     "output_type": "stream",
     "text": [
      "25/07/05 13:36:12 WARN SparkSession: Using an existing Spark session; only runtime SQL configurations will take effect.\n"
     ]
    }
   ],
   "source": [
    "from pyspark.sql import SparkSession\n",
    "\n",
    "spark = SparkSession.builder.master(\"local\").appName(\"tests\").getOrCreate()"
   ]
  },
  {
   "cell_type": "code",
   "execution_count": 3,
   "id": "9ac2b449-3b2a-4abf-9d70-ad490d217092",
   "metadata": {},
   "outputs": [
    {
     "name": "stdout",
     "output_type": "stream",
     "text": [
      "Running user activity test...\n",
      "✅ Query executed successfully!\n",
      "+-------+-------------------+------------+------------+--------------+\n",
      "|user_id|        month_start|total_events|unique_hosts|homepage_ratio|\n",
      "+-------+-------------------+------------+------------+--------------+\n",
      "|      1|2023-01-01 00:00:00|           3|           2|       0.66667|\n",
      "|      2|2023-02-01 00:00:00|           1|           1|       1.00000|\n",
      "|      2|2023-01-01 00:00:00|           1|           1|       0.00000|\n",
      "+-------+-------------------+------------+------------+--------------+\n",
      "\n",
      "✅ All validations passed!\n",
      "✅ User 1 January: 3 events, 2 hosts, 0.66667 ratio\n",
      "✅ User 2 January: 1 events, 1 hosts, 0.00000 ratio\n",
      "✅ User 2 February: 1 events, 1 hosts, 1.00000 ratio\n",
      "✅ PostgreSQL to PySpark conversion test PASSED!\n",
      "✅ User activity test PASSED!\n",
      "Running player ranking test...\n",
      "✅ Query executed successfully!\n"
     ]
    },
    {
     "name": "stderr",
     "output_type": "stream",
     "text": [
      "25/07/05 13:36:15 WARN WindowExec: No Partition Defined for Window operation! Moving all data to a single partition, this can cause serious performance degradation.\n",
      "25/07/05 13:36:15 WARN WindowExec: No Partition Defined for Window operation! Moving all data to a single partition, this can cause serious performance degradation.\n",
      "25/07/05 13:36:15 WARN WindowExec: No Partition Defined for Window operation! Moving all data to a single partition, this can cause serious performance degradation.\n",
      "25/07/05 13:36:15 WARN WindowExec: No Partition Defined for Window operation! Moving all data to a single partition, this can cause serious performance degradation.\n",
      "25/07/05 13:36:15 WARN WindowExec: No Partition Defined for Window operation! Moving all data to a single partition, this can cause serious performance degradation.\n",
      "25/07/05 13:36:15 WARN WindowExec: No Partition Defined for Window operation! Moving all data to a single partition, this can cause serious performance degradation.\n",
      "25/07/05 13:36:15 WARN WindowExec: No Partition Defined for Window operation! Moving all data to a single partition, this can cause serious performance degradation.\n",
      "25/07/05 13:36:16 WARN WindowExec: No Partition Defined for Window operation! Moving all data to a single partition, this can cause serious performance degradation.\n",
      "25/07/05 13:36:16 WARN WindowExec: No Partition Defined for Window operation! Moving all data to a single partition, this can cause serious performance degradation.\n"
     ]
    },
    {
     "name": "stdout",
     "output_type": "stream",
     "text": [
      "+---------------+---------+----------+------------+---------+----------+\n",
      "|player_gamertag|avg_kills|avg_deaths|games_played|kill_rank|skill_tier|\n",
      "+---------------+---------+----------+------------+---------+----------+\n",
      "|       ProGamer|     25.0|       5.2|           5|        1|     Elite|\n",
      "|     GoodPlayer|     15.0|      10.0|           5|        2|      Good|\n",
      "|         Newbie|      7.0|      16.2|           5|        3|  Beginner|\n",
      "+---------------+---------+----------+------------+---------+----------+\n",
      "\n",
      "✅ All validations passed!\n",
      "✅ ProGamer: 25.0 avg kills, rank 1, Elite tier\n",
      "✅ GoodPlayer: 15.0 avg kills, rank 2, Good tier\n",
      "✅ Newbie: 7.0 avg kills, rank 3, Beginner tier\n",
      "✅ PostgreSQL to PySpark ranking conversion test PASSED!\n",
      "✅ Player ranking test PASSED!\n"
     ]
    },
    {
     "name": "stderr",
     "output_type": "stream",
     "text": [
      "25/07/05 13:36:16 WARN WindowExec: No Partition Defined for Window operation! Moving all data to a single partition, this can cause serious performance degradation.\n",
      "25/07/05 13:36:16 WARN WindowExec: No Partition Defined for Window operation! Moving all data to a single partition, this can cause serious performance degradation.\n",
      "25/07/05 13:36:16 WARN WindowExec: No Partition Defined for Window operation! Moving all data to a single partition, this can cause serious performance degradation.\n",
      "25/07/05 13:36:16 WARN WindowExec: No Partition Defined for Window operation! Moving all data to a single partition, this can cause serious performance degradation.\n"
     ]
    }
   ],
   "source": [
    "# Import and run user activity test\n",
    "from tests.test_user_activity import test_user_activity_aggregation\n",
    "\n",
    "print(\"Running user activity test...\")\n",
    "test_user_activity_aggregation(spark)\n",
    "print(\"✅ User activity test PASSED!\")\n",
    "\n",
    "# Cell 4\n",
    "# Import and run player ranking test  \n",
    "from tests.test_player_ranking import test_player_ranking_with_skill_tiers\n",
    "\n",
    "print(\"Running player ranking test...\")\n",
    "test_player_ranking_with_skill_tiers(spark)\n",
    "print(\"✅ Player ranking test PASSED!\")\n",
    "\n",
    "spark.stop()"
   ]
  },
  {
   "cell_type": "code",
   "execution_count": null,
   "id": "e8e9c6e0-71b9-420a-872b-5df88c2654e7",
   "metadata": {},
   "outputs": [],
   "source": []
  },
  {
   "cell_type": "code",
   "execution_count": null,
   "id": "e1e0761d-2823-4994-a26b-30b7e14dd6a8",
   "metadata": {},
   "outputs": [],
   "source": []
  }
 ],
 "metadata": {
  "kernelspec": {
   "display_name": "Python 3 (ipykernel)",
   "language": "python",
   "name": "python3"
  },
  "language_info": {
   "codemirror_mode": {
    "name": "ipython",
    "version": 3
   },
   "file_extension": ".py",
   "mimetype": "text/x-python",
   "name": "python",
   "nbconvert_exporter": "python",
   "pygments_lexer": "ipython3",
   "version": "3.10.16"
  }
 },
 "nbformat": 4,
 "nbformat_minor": 5
}
